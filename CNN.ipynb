{
  "nbformat": 4,
  "nbformat_minor": 0,
  "metadata": {
    "colab": {
      "provenance": [],
      "gpuType": "T4"
    },
    "kernelspec": {
      "name": "python3",
      "display_name": "Python 3"
    },
    "language_info": {
      "name": "python"
    },
    "accelerator": "GPU"
  },
  "cells": [
    {
      "cell_type": "markdown",
      "source": [
        "### **MNIST Handwritten Digits Dataset - Tasks (Using CNN)**\n",
        "\n",
        "1. **Load the Dataset:**\n",
        "   - Load the MNIST dataset and normalize the pixel values to the range 0-1.\n",
        "   - Reshape the data to have a shape of `(28, 28, 1)` to match the input format for CNNs.\n",
        "\n",
        "2. **Build a CNN Model:**\n",
        "   - **Input Layer:** Accepts images of shape `(28, 28, 1)`.\n",
        "   - **Convolutional Layer 1:** 32 filters, kernel size `(3, 3)`, ReLU activation.\n",
        "   - **MaxPooling Layer 1:** Pool size `(2, 2)`.\n",
        "   - **Convolutional Layer 2:** 64 filters, kernel size `(3, 3)`, ReLU activation.\n",
        "   - **MaxPooling Layer 2:** Pool size `(2, 2)`.\n",
        "   - **Flatten Layer:** Flattens the feature maps into a 1D vector.\n",
        "   - **Dense Hidden Layer:** 128 neurons with ReLU activation.\n",
        "   - **Output Layer:** 10 neurons with softmax activation.\n",
        "\n",
        "3. **Compile the Model:**\n",
        "   - Use the Adam optimizer, categorical crossentropy as the loss function, and accuracy as a metric.\n",
        "\n",
        "4. **Train the Model:**\n",
        "   - Train the model on the training dataset for 10 epochs with a batch size of 32.\n",
        "\n",
        "5. **Evaluate the Model:**\n",
        "   - Evaluate the model on the test dataset and report the test accuracy.\n",
        "\n",
        "6. **Predict on Test Samples:**\n",
        "   - Use the trained model to predict the classes for 5 random test samples.\n",
        "   - Display the images with their predicted and actual labels.\n",
        "\n",
        "7. **Calculate Metrics:**\n",
        "   - Compute precision, recall, and F1-score for each class using the test dataset.\n",
        "   - Include these metrics in the evaluation report.\n",
        "\n",
        "8. **Save and Reload the Model:**\n",
        "   - Save the trained model to a file.\n",
        "   - Reload the model and use it for predictions on new data.\n",
        "\n"
      ],
      "metadata": {
        "id": "gHEd13Ai17xO"
      }
    },
    {
      "cell_type": "code",
      "source": [
        "import numpy as np\n",
        "import tensorflow as tf\n",
        "from tensorflow.keras.datasets import mnist\n",
        "from tensorflow.keras.utils import to_categorical\n",
        "import matplotlib.pyplot as plt\n",
        "from sklearn.metrics import classification_report\n",
        "\n",
        "# Load the dataset\n",
        "(x_train, y_train), (x_test, y_test) = mnist.load_data()\n",
        "\n",
        "# Normalize pixel values to the range 0-1\n",
        "x_train = x_train.astype('float32') / 255.0\n",
        "x_test = x_test.astype('float32') / 255.0\n",
        "\n",
        "# Reshape to add channel dimension\n",
        "x_train = x_train.reshape(-1, 28, 28, 1)\n",
        "x_test = x_test.reshape(-1, 28, 28, 1)\n",
        "\n",
        "# One-hot encode the labels\n",
        "y_train = to_categorical(y_train, 10)\n",
        "y_test = to_categorical(y_test, 10)\n"
      ],
      "metadata": {
        "colab": {
          "base_uri": "https://localhost:8080/"
        },
        "id": "w2SQmG3dPzdb",
        "outputId": "706d93d4-0344-4ec9-f213-28889f84e0bf"
      },
      "execution_count": null,
      "outputs": [
        {
          "output_type": "stream",
          "name": "stdout",
          "text": [
            "Downloading data from https://storage.googleapis.com/tensorflow/tf-keras-datasets/mnist.npz\n",
            "\u001b[1m11490434/11490434\u001b[0m \u001b[32m━━━━━━━━━━━━━━━━━━━━\u001b[0m\u001b[37m\u001b[0m \u001b[1m0s\u001b[0m 0us/step\n"
          ]
        }
      ]
    },
    {
      "cell_type": "markdown",
      "source": [
        "###*Building the CNN Model*"
      ],
      "metadata": {
        "id": "aUQXIMgIQXpp"
      }
    },
    {
      "cell_type": "code",
      "source": [
        "from tensorflow.keras.models import Sequential\n",
        "from tensorflow.keras.layers import Conv2D, MaxPooling2D, Flatten, Dense\n",
        "\n",
        "model = Sequential([\n",
        "    # Input Layer and Convolutional Layer 1\n",
        "    Conv2D(32, (3, 3), activation='relu', input_shape=(28, 28, 1)),\n",
        "    MaxPooling2D((2, 2)),\n",
        "\n",
        "    # Convolutional Layer 2\n",
        "    Conv2D(64, (3, 3), activation='relu'),\n",
        "    MaxPooling2D((2, 2)),\n",
        "\n",
        "    # Flatten and Dense Layers\n",
        "    Flatten(),\n",
        "    Dense(128, activation='relu'),\n",
        "    Dense(10, activation='softmax')  # Output layer\n",
        "])\n"
      ],
      "metadata": {
        "colab": {
          "base_uri": "https://localhost:8080/"
        },
        "id": "GcdYzb3AP0Lc",
        "outputId": "74521b33-1b85-4774-a590-9b7e67482668"
      },
      "execution_count": null,
      "outputs": [
        {
          "output_type": "stream",
          "name": "stderr",
          "text": [
            "/usr/local/lib/python3.10/dist-packages/keras/src/layers/convolutional/base_conv.py:107: UserWarning: Do not pass an `input_shape`/`input_dim` argument to a layer. When using Sequential models, prefer using an `Input(shape)` object as the first layer in the model instead.\n",
            "  super().__init__(activity_regularizer=activity_regularizer, **kwargs)\n"
          ]
        }
      ]
    },
    {
      "cell_type": "markdown",
      "source": [
        "###*Compiling the Model*"
      ],
      "metadata": {
        "id": "XewPYvpHQfvI"
      }
    },
    {
      "cell_type": "code",
      "source": [
        "model.compile(optimizer='adam',\n",
        "              loss='categorical_crossentropy',\n",
        "              metrics=['accuracy'])\n"
      ],
      "metadata": {
        "id": "kUmUeQBHQcas"
      },
      "execution_count": null,
      "outputs": []
    },
    {
      "cell_type": "markdown",
      "source": [
        "###*Training the Model*"
      ],
      "metadata": {
        "id": "Co8B_5KaQnFY"
      }
    },
    {
      "cell_type": "code",
      "source": [
        "history = model.fit(x_train, y_train,\n",
        "                    epochs=10,\n",
        "                    batch_size=32,\n",
        "                    validation_split=0.1)\n"
      ],
      "metadata": {
        "colab": {
          "base_uri": "https://localhost:8080/"
        },
        "id": "4lXuIdiAQkYm",
        "outputId": "4ee7f864-7d2f-465d-c788-2fc0152a447c"
      },
      "execution_count": null,
      "outputs": [
        {
          "output_type": "stream",
          "name": "stdout",
          "text": [
            "Epoch 1/10\n",
            "\u001b[1m1688/1688\u001b[0m \u001b[32m━━━━━━━━━━━━━━━━━━━━\u001b[0m\u001b[37m\u001b[0m \u001b[1m56s\u001b[0m 32ms/step - accuracy: 0.9003 - loss: 0.3215 - val_accuracy: 0.9847 - val_loss: 0.0507\n",
            "Epoch 2/10\n",
            "\u001b[1m1688/1688\u001b[0m \u001b[32m━━━━━━━━━━━━━━━━━━━━\u001b[0m\u001b[37m\u001b[0m \u001b[1m54s\u001b[0m 32ms/step - accuracy: 0.9849 - loss: 0.0494 - val_accuracy: 0.9858 - val_loss: 0.0499\n",
            "Epoch 3/10\n",
            "\u001b[1m1688/1688\u001b[0m \u001b[32m━━━━━━━━━━━━━━━━━━━━\u001b[0m\u001b[37m\u001b[0m \u001b[1m82s\u001b[0m 32ms/step - accuracy: 0.9906 - loss: 0.0313 - val_accuracy: 0.9905 - val_loss: 0.0382\n",
            "Epoch 4/10\n",
            "\u001b[1m1688/1688\u001b[0m \u001b[32m━━━━━━━━━━━━━━━━━━━━\u001b[0m\u001b[37m\u001b[0m \u001b[1m81s\u001b[0m 32ms/step - accuracy: 0.9936 - loss: 0.0191 - val_accuracy: 0.9893 - val_loss: 0.0383\n",
            "Epoch 5/10\n",
            "\u001b[1m1688/1688\u001b[0m \u001b[32m━━━━━━━━━━━━━━━━━━━━\u001b[0m\u001b[37m\u001b[0m \u001b[1m82s\u001b[0m 32ms/step - accuracy: 0.9949 - loss: 0.0157 - val_accuracy: 0.9927 - val_loss: 0.0311\n",
            "Epoch 6/10\n",
            "\u001b[1m1688/1688\u001b[0m \u001b[32m━━━━━━━━━━━━━━━━━━━━\u001b[0m\u001b[37m\u001b[0m \u001b[1m82s\u001b[0m 32ms/step - accuracy: 0.9964 - loss: 0.0110 - val_accuracy: 0.9900 - val_loss: 0.0449\n",
            "Epoch 7/10\n",
            "\u001b[1m1688/1688\u001b[0m \u001b[32m━━━━━━━━━━━━━━━━━━━━\u001b[0m\u001b[37m\u001b[0m \u001b[1m82s\u001b[0m 32ms/step - accuracy: 0.9968 - loss: 0.0095 - val_accuracy: 0.9915 - val_loss: 0.0354\n",
            "Epoch 8/10\n",
            "\u001b[1m1688/1688\u001b[0m \u001b[32m━━━━━━━━━━━━━━━━━━━━\u001b[0m\u001b[37m\u001b[0m \u001b[1m81s\u001b[0m 31ms/step - accuracy: 0.9979 - loss: 0.0068 - val_accuracy: 0.9915 - val_loss: 0.0383\n",
            "Epoch 9/10\n",
            "\u001b[1m1688/1688\u001b[0m \u001b[32m━━━━━━━━━━━━━━━━━━━━\u001b[0m\u001b[37m\u001b[0m \u001b[1m53s\u001b[0m 31ms/step - accuracy: 0.9980 - loss: 0.0056 - val_accuracy: 0.9887 - val_loss: 0.0573\n",
            "Epoch 10/10\n",
            "\u001b[1m1688/1688\u001b[0m \u001b[32m━━━━━━━━━━━━━━━━━━━━\u001b[0m\u001b[37m\u001b[0m \u001b[1m54s\u001b[0m 32ms/step - accuracy: 0.9977 - loss: 0.0066 - val_accuracy: 0.9918 - val_loss: 0.0395\n"
          ]
        }
      ]
    },
    {
      "cell_type": "markdown",
      "source": [
        "###*Evaluating the Model*"
      ],
      "metadata": {
        "id": "owIQF3m2TXWV"
      }
    },
    {
      "cell_type": "code",
      "source": [
        "test_loss, test_accuracy = model.evaluate(x_test, y_test, verbose=0)\n",
        "print(f\"Test Accuracy: {test_accuracy * 100:.2f}%\")\n"
      ],
      "metadata": {
        "colab": {
          "base_uri": "https://localhost:8080/"
        },
        "id": "Oef1GKbIQtPg",
        "outputId": "3504a4eb-bf67-454d-8910-f898f9cf8650"
      },
      "execution_count": null,
      "outputs": [
        {
          "output_type": "stream",
          "name": "stdout",
          "text": [
            "Test Accuracy: 99.14%\n"
          ]
        }
      ]
    },
    {
      "cell_type": "markdown",
      "source": [
        "###*Predicting on Test Samples*"
      ],
      "metadata": {
        "id": "_JgukOKATlxa"
      }
    },
    {
      "cell_type": "code",
      "source": [
        "# Predict on 5 random test samples\n",
        "indices = np.random.choice(x_test.shape[0], 5, replace=False)\n",
        "predictions = model.predict(x_test[indices])\n",
        "\n",
        "for i, idx in enumerate(indices):\n",
        "    plt.imshow(x_test[idx].squeeze(), cmap='gray')\n",
        "    plt.title(f\"Predicted: {np.argmax(predictions[i])}, Actual: {np.argmax(y_test[idx])}\")\n",
        "    plt.show()\n"
      ],
      "metadata": {
        "colab": {
          "base_uri": "https://localhost:8080/",
          "height": 1000
        },
        "id": "3yLD5L8kTh2g",
        "outputId": "72387925-33d3-4da2-85ca-251626befe89"
      },
      "execution_count": null,
      "outputs": [
        {
          "output_type": "stream",
          "name": "stdout",
          "text": [
            "\u001b[1m1/1\u001b[0m \u001b[32m━━━━━━━━━━━━━━━━━━━━\u001b[0m\u001b[37m\u001b[0m \u001b[1m0s\u001b[0m 445ms/step\n"
          ]
        },
        {
          "output_type": "display_data",
          "data": {
            "text/plain": [
              "<Figure size 640x480 with 1 Axes>"
            ],
            "image/png": "[encoded data removed]"
          },
          "metadata": {}
        },
        {
          "output_type": "display_data",
          "data": {
            "text/plain": [
              "<Figure size 640x480 with 1 Axes>"
            ],
            "image/png": "[encoded data removed]"
          },
          "metadata": {}
        },
        {
          "output_type": "display_data",
          "data": {
            "text/plain": [
              "<Figure size 640x480 with 1 Axes>"
            ],
            "image/png": "[encoded data removed]"
          },
          "metadata": {}
        },
        {
          "output_type": "display_data",
          "data": {
            "text/plain": [
              "<Figure size 640x480 with 1 Axes>"
            ],
            "image/png": "[encoded data removed]"
          },
          "metadata": {}
        },
        {
          "output_type": "display_data",
          "data": {
            "text/plain": [
              "<Figure size 640x480 with 1 Axes>"
            ],
            "image/png": "[encoded data removed]"
          },
          "metadata": {}
        }
      ]
    },
    {
      "cell_type": "markdown",
      "source": [
        "###*Calculating Metrics*"
      ],
      "metadata": {
        "id": "ckoze3XtTyoh"
      }
    },
    {
      "cell_type": "code",
      "source": [
        "y_pred = model.predict(x_test)\n",
        "y_pred_classes = np.argmax(y_pred, axis=1)\n",
        "y_true_classes = np.argmax(y_test, axis=1)\n",
        "\n",
        "print(classification_report(y_true_classes, y_pred_classes))\n"
      ],
      "metadata": {
        "colab": {
          "base_uri": "https://localhost:8080/"
        },
        "id": "xxj1OF3CTp99",
        "outputId": "a150e621-96e2-484c-f51a-21072844d4c7"
      },
      "execution_count": null,
      "outputs": [
        {
          "output_type": "stream",
          "name": "stdout",
          "text": [
            "\u001b[1m313/313\u001b[0m \u001b[32m━━━━━━━━━━━━━━━━━━━━\u001b[0m\u001b[37m\u001b[0m \u001b[1m3s\u001b[0m 9ms/step\n",
            "              precision    recall  f1-score   support\n",
            "\n",
            "           0       0.99      1.00      0.99       980\n",
            "           1       0.99      1.00      0.99      1135\n",
            "           2       0.99      0.99      0.99      1032\n",
            "           3       0.99      0.99      0.99      1010\n",
            "           4       0.99      1.00      0.99       982\n",
            "           5       0.99      1.00      0.99       892\n",
            "           6       0.99      0.99      0.99       958\n",
            "           7       0.99      0.99      0.99      1028\n",
            "           8       0.99      0.99      0.99       974\n",
            "           9       0.99      0.98      0.98      1009\n",
            "\n",
            "    accuracy                           0.99     10000\n",
            "   macro avg       0.99      0.99      0.99     10000\n",
            "weighted avg       0.99      0.99      0.99     10000\n",
            "\n"
          ]
        }
      ]
    },
    {
      "cell_type": "markdown",
      "source": [
        "###*Save and Reload the Model*"
      ],
      "metadata": {
        "id": "yVmGimBAT3eu"
      }
    },
    {
      "cell_type": "code",
      "source": [
        "# Save the model in the new format\n",
        "model.save('mnist_cnn_model.keras')\n",
        "\n",
        "# Reload the model\n",
        "from tensorflow.keras.models import load_model\n",
        "loaded_model = load_model('mnist_cnn_model.keras')\n",
        "\n",
        "# Evaluate the reloaded model\n",
        "reloaded_test_loss, reloaded_test_accuracy = loaded_model.evaluate(x_test, y_test, verbose=0)\n",
        "print(f\"Reloaded Model Test Accuracy: {reloaded_test_accuracy * 100:.2f}%\")\n"
      ],
      "metadata": {
        "colab": {
          "base_uri": "https://localhost:8080/"
        },
        "id": "vIUkOsGwT2-C",
        "outputId": "9f1430ca-33f1-4ec9-a963-2b980efaaa90"
      },
      "execution_count": null,
      "outputs": [
        {
          "output_type": "stream",
          "name": "stderr",
          "text": [
            "/usr/local/lib/python3.10/dist-packages/keras/src/saving/saving_lib.py:713: UserWarning: Skipping variable loading for optimizer 'rmsprop', because it has 10 variables whereas the saved optimizer has 18 variables. \n",
            "  saveable.load_own_variables(weights_store.get(inner_path))\n"
          ]
        },
        {
          "output_type": "stream",
          "name": "stdout",
          "text": [
            "Reloaded Model Test Accuracy: 99.14%\n"
          ]
        }
      ]
    },
    {
      "cell_type": "code",
      "source": [],
      "metadata": {
        "id": "9_qREBGAUCqv"
      },
      "execution_count": null,
      "outputs": []
    }
  ]
}